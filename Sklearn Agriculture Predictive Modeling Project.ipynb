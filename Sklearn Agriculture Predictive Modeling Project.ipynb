{
 "cells": [
  {
   "cell_type": "markdown",
   "id": "2cbb0825",
   "metadata": {},
   "source": [
    "# Predictive Modeling for Agriculture\n",
    "\n",
    "Measuring essential soil metrics such as nitrogen, phosphorous, potassium levels, and pH value is an important aspect of assessing soil condition. Each crop has an ideal soil condition that ensures optimal growth and maximum yield.\n",
    "\n",
    "Our dataset, soil_measures, contains soil information and the optimal crop for that field. We will use this information to build a multi-class classification model to predict the ideal crop given soil conditions.\n",
    "\n",
    "The soil_measures dataset contains:\n",
    "- `\"N\"`: Nitrogen content ratio in the soil\n",
    "- `\"P\"`: Phosphorous content ratio in the soil\n",
    "- `\"K\"`: Potassium content ratio in the soil\n",
    "- `\"pH\"`: pH value of the soil\n",
    "- `\"crop\"`: categorical values that contain various crops (target variable)."
   ]
  },
  {
   "cell_type": "code",
   "execution_count": 1,
   "id": "404af1bd",
   "metadata": {},
   "outputs": [],
   "source": [
    "import numpy as np\n",
    "import pandas as pd\n",
    "import matplotlib\n",
    "import matplotlib.pyplot as plt\n",
    "import seaborn as sns\n",
    "import sklearn\n",
    "from sklearn.model_selection import train_test_split\n",
    "from sklearn.model_selection import GridSearchCV\n",
    "from sklearn.linear_model import LogisticRegression\n",
    "from sklearn.metrics import f1_score\n",
    "from sklearn.utils.validation import column_or_1d\n",
    "from sklearn.preprocessing import StandardScaler"
   ]
  },
  {
   "cell_type": "markdown",
   "id": "8a73ff35",
   "metadata": {},
   "source": [
    "### Data Validation\n",
    "\n",
    "We'll load and examine our dataset, check for missing values, and verify that feature columns are numeric.\n",
    "\n",
    "There are 22 different crops:\n",
    "- rice, maize, chickpea, kidneybeans, pigeonpeas, mothbeans, mungbean, blackgram, lentil, pomegranate, banana, mango, grapes, watermelon, muskmelon, apple, orange, papaya, coconut, cotton, jute, coffee\n",
    "\n",
    "There are no missing values and all feature columns are numeric, concluding our data validation."
   ]
  },
  {
   "cell_type": "code",
   "execution_count": 2,
   "id": "7cc78cf1",
   "metadata": {},
   "outputs": [
    {
     "name": "stdout",
     "output_type": "stream",
     "text": [
      "There are 22 unique crops.\n",
      "    N   P   K        ph  crop\n",
      "0  90  42  43  6.502985  rice\n",
      "1  85  58  41  7.038096  rice\n",
      "2  60  55  44  7.840207  rice\n",
      "3  74  35  40  6.980401  rice\n",
      "4  78  42  42  7.628473  rice\n"
     ]
    }
   ],
   "source": [
    "crops = pd.read_csv('datasets/soil_measures.csv') # 2200 x 5\n",
    "\n",
    "print('There are', len(crops['crop'].unique()), 'unique crops.')\n",
    "\n",
    "# The print statement below returns an empty dataframe, thus there are no missing values.\n",
    "# print(crops[crops.isnull().any(axis=1)])\n",
    "# crops_clean = crops.dropna()\n",
    "\n",
    "# The print statement below returns the datatype of each column of crops.\n",
    "# N, P, and K are int64 and ph is float64. Thus, all feature columsn are numeric.\n",
    "# print(crops.dtypes)\n",
    "\n",
    "print(crops.head())"
   ]
  },
  {
   "cell_type": "markdown",
   "id": "5283ad53",
   "metadata": {},
   "source": [
    "The boxplot below shows a significant amount of outliers, primarily in levels of K, potassium. These values are for crops including grapes, with grapes thriving under conditions between 120 and 250 ppm of potassium. Thus, despite being outliers, these values of potassium concentration are expected."
   ]
  },
  {
   "cell_type": "code",
   "execution_count": 3,
   "id": "9baaaa7b",
   "metadata": {},
   "outputs": [
    {
     "data": {
      "image/png": "[encoded data removed]",
      "text/plain": [
       "<Figure size 640x480 with 1 Axes>"
      ]
     },
     "metadata": {},
     "output_type": "display_data"
    }
   ],
   "source": [
    "crops.boxplot()  \n",
    "plt.show()\n",
    "# print(crops[crops['K'] > 150])"
   ]
  },
  {
   "cell_type": "markdown",
   "id": "4ba7f865",
   "metadata": {},
   "source": [
    "### Train test split\n",
    "\n",
    "We will split our 2200 row dataset into a training and test set, with 20% of values being reserved for testing."
   ]
  },
  {
   "cell_type": "code",
   "execution_count": 4,
   "id": "6396e748",
   "metadata": {},
   "outputs": [],
   "source": [
    "y = crops[['crop']]\n",
    "X = crops.drop(columns = 'crop')\n",
    "\n",
    "X_train, X_test, y_train, y_test = train_test_split(X, y, test_size=0.2, random_state=42)"
   ]
  },
  {
   "cell_type": "markdown",
   "id": "f9f2d62f",
   "metadata": {},
   "source": [
    "### Logistic Regression\n",
    "\n",
    "We will use multiclass logistic regression to predict ideal crops. To select the most significant features, we will fit a logistic regression and find an f1 score for each feature.\n",
    "\n",
    "To reduce runtime, I scaled the feature data. This should not influence the F1 score but the K scores are significantly different."
   ]
  },
  {
   "cell_type": "code",
   "execution_count": 5,
   "id": "ad277c35",
   "metadata": {},
   "outputs": [
    {
     "name": "stdout",
     "output_type": "stream",
     "text": [
      "N score: 0.10689900116508289\n",
      "P score: 0.08426955444720076\n",
      "K score: 0.13831456375684123\n",
      "ph score: 0.045464856528065166\n"
     ]
    },
    {
     "name": "stderr",
     "output_type": "stream",
     "text": [
      "C:\\Users\\Dan\\AppData\\Local\\Temp\\ipykernel_6976\\1762607549.py:9: DataConversionWarning: A column-vector y was passed when a 1d array was expected. Please change the shape of y to (n_samples, ), for example using ravel().\n",
      "  y_train = column_or_1d(y_train, warn=True)\n"
     ]
    }
   ],
   "source": [
    "# Scaled\n",
    "\n",
    "scaler = StandardScaler()\n",
    "X_train_scaled = scaler.fit_transform(X_train)\n",
    "X_test_scaled = scaler.transform(X_test)\n",
    "X_train_scaled = pd.DataFrame(X_train_scaled, columns = [\"N\", \"P\", \"K\", \"ph\"])\n",
    "X_test_scaled = pd.DataFrame(X_test_scaled, columns = [\"N\", \"P\", \"K\", \"ph\"])\n",
    "\n",
    "y_train = column_or_1d(y_train, warn=True)\n",
    "\n",
    "for feature in [\"N\", \"P\", \"K\", \"ph\"]:\n",
    "    logistic_regression = LogisticRegression(max_iter = 2000, multi_class = 'multinomial')\n",
    "    logistic_regression.fit(X_train_scaled[[feature]], y_train)\n",
    "    print(feature, 'score:', f1_score(y_test, logistic_regression.predict(X_test_scaled[[feature]]), average = 'weighted'))"
   ]
  },
  {
   "cell_type": "code",
   "execution_count": 6,
   "id": "f762bb29",
   "metadata": {},
   "outputs": [
    {
     "name": "stdout",
     "output_type": "stream",
     "text": [
      "N score: 0.10367653061010057\n",
      "P score: 0.12816696343647532\n",
      "K score: 0.21630633423610235\n",
      "ph score: 0.04532731061152114\n"
     ]
    }
   ],
   "source": [
    "# Not Scaled\n",
    "\n",
    "for feature in [\"N\", \"P\", \"K\", \"ph\"]:\n",
    "    logistic_regression = LogisticRegression(max_iter = 10000, multi_class = 'multinomial')\n",
    "    logistic_regression.fit(X_train[[feature]], y_train)\n",
    "    print(feature, 'score:', f1_score(y_test, logistic_regression.predict(X_test[[feature]]), average = 'weighted'))"
   ]
  },
  {
   "cell_type": "markdown",
   "id": "82199999",
   "metadata": {},
   "source": [
    "### Multicollinearity\n",
    "\n",
    "There is debate as to whether we should include collinear features. \n",
    "\n",
    "If two variables are highly linearly related, including both rather than one does little to improve predictive power.\n",
    "- Excluding one variable can cause strong confounding\n",
    "- If we remove one collinear variable, we must note this in our analysis and interpretation, as it is impossible to know which or if both variables cause the observed effect in the responce variable"
   ]
  },
  {
   "cell_type": "code",
   "execution_count": 7,
   "id": "3879d83e",
   "metadata": {},
   "outputs": [
    {
     "data": {
      "text/html": [
       "<div>\n",
       "<style scoped>\n",
       "    .dataframe tbody tr th:only-of-type {\n",
       "        vertical-align: middle;\n",
       "    }\n",
       "\n",
       "    .dataframe tbody tr th {\n",
       "        vertical-align: top;\n",
       "    }\n",
       "\n",
       "    .dataframe thead th {\n",
       "        text-align: right;\n",
       "    }\n",
       "</style>\n",
       "<table border=\"1\" class=\"dataframe\">\n",
       "  <thead>\n",
       "    <tr style=\"text-align: right;\">\n",
       "      <th></th>\n",
       "      <th>N</th>\n",
       "      <th>P</th>\n",
       "      <th>K</th>\n",
       "      <th>ph</th>\n",
       "    </tr>\n",
       "  </thead>\n",
       "  <tbody>\n",
       "    <tr>\n",
       "      <th>N</th>\n",
       "      <td>1.000000</td>\n",
       "      <td>-0.231460</td>\n",
       "      <td>-0.140512</td>\n",
       "      <td>0.096683</td>\n",
       "    </tr>\n",
       "    <tr>\n",
       "      <th>P</th>\n",
       "      <td>-0.231460</td>\n",
       "      <td>1.000000</td>\n",
       "      <td>0.736232</td>\n",
       "      <td>-0.138019</td>\n",
       "    </tr>\n",
       "    <tr>\n",
       "      <th>K</th>\n",
       "      <td>-0.140512</td>\n",
       "      <td>0.736232</td>\n",
       "      <td>1.000000</td>\n",
       "      <td>-0.169503</td>\n",
       "    </tr>\n",
       "    <tr>\n",
       "      <th>ph</th>\n",
       "      <td>0.096683</td>\n",
       "      <td>-0.138019</td>\n",
       "      <td>-0.169503</td>\n",
       "      <td>1.000000</td>\n",
       "    </tr>\n",
       "  </tbody>\n",
       "</table>\n",
       "</div>"
      ],
      "text/plain": [
       "           N         P         K        ph\n",
       "N   1.000000 -0.231460 -0.140512  0.096683\n",
       "P  -0.231460  1.000000  0.736232 -0.138019\n",
       "K  -0.140512  0.736232  1.000000 -0.169503\n",
       "ph  0.096683 -0.138019 -0.169503  1.000000"
      ]
     },
     "execution_count": 7,
     "metadata": {},
     "output_type": "execute_result"
    }
   ],
   "source": [
    "# Calculate the correlation matrix\n",
    "crops_corr = crops[[\"N\", \"P\", \"K\", \"ph\"]].corr()\n",
    "\n",
    "crops_corr"
   ]
  },
  {
   "cell_type": "code",
   "execution_count": 8,
   "id": "ed19c70c",
   "metadata": {},
   "outputs": [
    {
     "data": {
      "image/png": "[encoded data removed]",
      "text/plain": [
       "<Figure size 640x480 with 2 Axes>"
      ]
     },
     "metadata": {},
     "output_type": "display_data"
    }
   ],
   "source": [
    "# Create a heatmap using seaborn\n",
    "sns.heatmap(crops_corr, annot=True)\n",
    "plt.show()"
   ]
  },
  {
   "cell_type": "markdown",
   "id": "6055673b",
   "metadata": {},
   "source": [
    "The heatmap above shows that K (Potassium) and P (Phosphorus) are significantly correlated. Therefore, we can remove one of these predictors and acheive similar accuracy. We will train and test new regression models with and without removing P."
   ]
  },
  {
   "cell_type": "markdown",
   "id": "4fd22841",
   "metadata": {},
   "source": [
    "### Logistic Regression - With and Without Phosphorus"
   ]
  },
  {
   "cell_type": "code",
   "execution_count": 9,
   "id": "62007fb2",
   "metadata": {},
   "outputs": [],
   "source": [
    "# New Train Test Split\n",
    "\n",
    "X_train_NoP, X_test_NoP, y_train_NoP, y_test_NoP = train_test_split(\n",
    "    crops[[\"N\", \"K\", \"ph\"]],\n",
    "    crops[\"crop\"],\n",
    "    test_size=0.2,\n",
    "    random_state=42\n",
    ")"
   ]
  },
  {
   "cell_type": "code",
   "execution_count": 10,
   "id": "bd20007f",
   "metadata": {},
   "outputs": [
    {
     "name": "stderr",
     "output_type": "stream",
     "text": [
      "D:\\Python\\Anaconda\\Lib\\site-packages\\sklearn\\linear_model\\_logistic.py:460: ConvergenceWarning: lbfgs failed to converge (status=1):\n",
      "STOP: TOTAL NO. of f AND g EVALUATIONS EXCEEDS LIMIT.\n",
      "\n",
      "Increase the number of iterations (max_iter) or scale the data as shown in:\n",
      "    https://scikit-learn.org/stable/modules/preprocessing.html\n",
      "Please also refer to the documentation for alternative solver options:\n",
      "    https://scikit-learn.org/stable/modules/linear_model.html#logistic-regression\n",
      "  n_iter_i = _check_optimize_result(\n"
     ]
    },
    {
     "name": "stdout",
     "output_type": "stream",
     "text": [
      "Default F1 Score: 0.6829512209861234\n",
      "Default F1 Score with Saga Solver: 0.6086046112326493\n",
      "Scaled F1 Score: 0.6475209891596989\n",
      "Without Phosphorus F1 Score: 0.46542340778947433\n"
     ]
    }
   ],
   "source": [
    "logistic_regression = LogisticRegression(max_iter = 20000, multi_class = 'multinomial')\n",
    "logistic_regression.fit(X_train, y_train)\n",
    "print('Default F1 Score:', f1_score(y_test, logistic_regression.predict(X_test), average = 'weighted'))\n",
    "\n",
    "logistic_regression = LogisticRegression(max_iter = 20000, multi_class = 'multinomial', solver='saga')\n",
    "logistic_regression.fit(X_train, y_train)\n",
    "print('Default F1 Score with Saga Solver:', f1_score(y_test, logistic_regression.predict(X_test), average = 'weighted'))\n",
    "\n",
    "logistic_regression = LogisticRegression(max_iter = 5000, multi_class = 'multinomial', solver='saga')\n",
    "logistic_regression.fit(X_train_scaled, y_train)\n",
    "print('Scaled F1 Score:', f1_score(y_test, logistic_regression.predict(X_test_scaled), average = 'weighted'))\n",
    "\n",
    "logistic_regression = LogisticRegression(max_iter = 20000, multi_class = 'multinomial', solver='saga')\n",
    "logistic_regression.fit(X_train_NoP, y_train_NoP)\n",
    "print('Without Phosphorus F1 Score:', f1_score(y_test_NoP, logistic_regression.predict(X_test_NoP), average = 'weighted'))"
   ]
  },
  {
   "cell_type": "markdown",
   "id": "491df2db",
   "metadata": {},
   "source": [
    "### Conclusion\n",
    "\n",
    "The model with the best F1 Score is the default model. This model uses the lbfgs solver and did not remove P or scale the features. However, this model fails to converge so we will focus on evaluating the models that converge.\n",
    "\n",
    "Of the models that converge, the Scaled model performs the best. This model scaled the factors but did not drop P, implying that scaling the factors improved precision and or recall.\n",
    "\n",
    "The model that dropped Phosphorus performed the worst. While dropping collinear factors can help a model converge, doing so can lead to issues interpretting the model and worsen model performance. Thus, it is unnecessary to drop Phosphorus from this analysis.\n",
    "\n",
    "- We conclude that scaling factors can significantly improve model performance and dropping collinear factors can significantly hinder model performance."
   ]
  }
 ],
 "metadata": {
  "kernelspec": {
   "display_name": "Python 3 (ipykernel)",
   "language": "python",
   "name": "python3"
  },
  "language_info": {
   "codemirror_mode": {
    "name": "ipython",
    "version": 3
   },
   "file_extension": ".py",
   "mimetype": "text/x-python",
   "name": "python",
   "nbconvert_exporter": "python",
   "pygments_lexer": "ipython3",
   "version": "3.11.5"
  }
 },
 "nbformat": 4,
 "nbformat_minor": 5
}
